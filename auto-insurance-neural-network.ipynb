{
 "cells": [
  {
   "cell_type": "markdown",
   "id": "badda3f7",
   "metadata": {
    "papermill": {
     "duration": 0.006241,
     "end_time": "2022-08-08T16:54:44.839409",
     "exception": false,
     "start_time": "2022-08-08T16:54:44.833168",
     "status": "completed"
    },
    "tags": []
   },
   "source": [
    "<img src='https://img.freepik.com/free-vector/car-wheel-tire-isolated-white-hand-drawn-sketch-vector-illustration_460848-14812.jpg?t=st=1659977210~exp=1659977810~hmac=8c66bd003cda989139ec016d1fb18a99438e718d2fd2a9cd28b63ebd9df2d7c8'/>"
   ]
  },
  {
   "cell_type": "code",
   "execution_count": 46,
   "id": "de2c7ff0",
   "metadata": {
    "_cell_guid": "b1076dfc-b9ad-4769-8c92-a6c4dae69d19",
    "_kg_hide-input": true,
    "_uuid": "8f2839f25d086af736a60e9eeb907d3b93b6e0e5",
    "execution": {
     "iopub.execute_input": "2022-08-08T16:54:44.855029Z",
     "iopub.status.busy": "2022-08-08T16:54:44.854470Z",
     "iopub.status.idle": "2022-08-08T16:54:55.175405Z",
     "shell.execute_reply": "2022-08-08T16:54:55.173468Z"
    },
    "papermill": {
     "duration": 10.333063,
     "end_time": "2022-08-08T16:54:55.179045",
     "exception": false,
     "start_time": "2022-08-08T16:54:44.845982",
     "status": "completed"
    },
    "tags": []
   },
   "outputs": [],
   "source": [
    "from pandas import read_csv\n",
    "from sklearn.model_selection import train_test_split\n",
    "from sklearn.metrics import mean_absolute_error\n",
    "from sklearn.preprocessing import PowerTransformer\n",
    "\n",
    "import tensorflow as tf\n",
    "from tensorflow.keras import Sequential\n",
    "from tensorflow.keras.layers import Dense\n",
    "import matplotlib.pyplot as plt\n",
    "\n",
    "\n",
    "import tensorflow_addons as tfa"
   ]
  },
  {
   "cell_type": "code",
   "execution_count": 47,
   "id": "5b27c890",
   "metadata": {
    "execution": {
     "iopub.execute_input": "2022-08-08T16:54:55.192079Z",
     "iopub.status.busy": "2022-08-08T16:54:55.191355Z",
     "iopub.status.idle": "2022-08-08T16:54:55.213749Z",
     "shell.execute_reply": "2022-08-08T16:54:55.212392Z"
    },
    "papermill": {
     "duration": 0.033641,
     "end_time": "2022-08-08T16:54:55.217802",
     "exception": false,
     "start_time": "2022-08-08T16:54:55.184161",
     "status": "completed"
    },
    "tags": []
   },
   "outputs": [],
   "source": [
    "path = 'auto-insurance.csv'\n",
    "df = read_csv(path, header=None)\n",
    "X, y = df.values[:, :-1], df.values[:, -1]\n",
    "X_train, X_test, y_train, y_test = train_test_split(X, y, test_size=0.33, shuffle=True)\n",
    "y_train, y_test = y_train.reshape((len(y_train),1)), y_test.reshape((len(y_test),1))"
   ]
  },
  {
   "cell_type": "code",
   "execution_count": 48,
   "id": "ebf119d3",
   "metadata": {
    "execution": {
     "iopub.execute_input": "2022-08-08T16:54:55.231457Z",
     "iopub.status.busy": "2022-08-08T16:54:55.230687Z",
     "iopub.status.idle": "2022-08-08T16:54:55.254000Z",
     "shell.execute_reply": "2022-08-08T16:54:55.253036Z"
    },
    "papermill": {
     "duration": 0.03323,
     "end_time": "2022-08-08T16:54:55.256196",
     "exception": false,
     "start_time": "2022-08-08T16:54:55.222966",
     "status": "completed"
    },
    "tags": []
   },
   "outputs": [
    {
     "data": {
      "text/html": [
       "<div>\n",
       "<style scoped>\n",
       "    .dataframe tbody tr th:only-of-type {\n",
       "        vertical-align: middle;\n",
       "    }\n",
       "\n",
       "    .dataframe tbody tr th {\n",
       "        vertical-align: top;\n",
       "    }\n",
       "\n",
       "    .dataframe thead th {\n",
       "        text-align: right;\n",
       "    }\n",
       "</style>\n",
       "<table border=\"1\" class=\"dataframe\">\n",
       "  <thead>\n",
       "    <tr style=\"text-align: right;\">\n",
       "      <th></th>\n",
       "      <th>0</th>\n",
       "      <th>1</th>\n",
       "    </tr>\n",
       "  </thead>\n",
       "  <tbody>\n",
       "    <tr>\n",
       "      <th>0</th>\n",
       "      <td>108</td>\n",
       "      <td>392.5</td>\n",
       "    </tr>\n",
       "    <tr>\n",
       "      <th>1</th>\n",
       "      <td>19</td>\n",
       "      <td>46.2</td>\n",
       "    </tr>\n",
       "    <tr>\n",
       "      <th>2</th>\n",
       "      <td>13</td>\n",
       "      <td>15.7</td>\n",
       "    </tr>\n",
       "    <tr>\n",
       "      <th>3</th>\n",
       "      <td>124</td>\n",
       "      <td>422.2</td>\n",
       "    </tr>\n",
       "    <tr>\n",
       "      <th>4</th>\n",
       "      <td>40</td>\n",
       "      <td>119.4</td>\n",
       "    </tr>\n",
       "  </tbody>\n",
       "</table>\n",
       "</div>"
      ],
      "text/plain": [
       "     0      1\n",
       "0  108  392.5\n",
       "1   19   46.2\n",
       "2   13   15.7\n",
       "3  124  422.2\n",
       "4   40  119.4"
      ]
     },
     "execution_count": 48,
     "metadata": {},
     "output_type": "execute_result"
    }
   ],
   "source": [
    "df.head()"
   ]
  },
  {
   "cell_type": "markdown",
   "id": "951fb6bf",
   "metadata": {
    "papermill": {
     "duration": 0.005699,
     "end_time": "2022-08-08T16:54:55.268155",
     "exception": false,
     "start_time": "2022-08-08T16:54:55.262456",
     "status": "completed"
    },
    "tags": []
   },
   "source": [
    "## Feature Engineering"
   ]
  },
  {
   "cell_type": "code",
   "execution_count": 49,
   "id": "4c33428a",
   "metadata": {
    "execution": {
     "iopub.execute_input": "2022-08-08T16:54:55.282642Z",
     "iopub.status.busy": "2022-08-08T16:54:55.281891Z",
     "iopub.status.idle": "2022-08-08T16:54:55.318302Z",
     "shell.execute_reply": "2022-08-08T16:54:55.316660Z"
    },
    "papermill": {
     "duration": 0.046559,
     "end_time": "2022-08-08T16:54:55.321012",
     "exception": false,
     "start_time": "2022-08-08T16:54:55.274453",
     "status": "completed"
    },
    "tags": []
   },
   "outputs": [
    {
     "data": {
      "text/html": [
       "<div>\n",
       "<style scoped>\n",
       "    .dataframe tbody tr th:only-of-type {\n",
       "        vertical-align: middle;\n",
       "    }\n",
       "\n",
       "    .dataframe tbody tr th {\n",
       "        vertical-align: top;\n",
       "    }\n",
       "\n",
       "    .dataframe thead th {\n",
       "        text-align: right;\n",
       "    }\n",
       "</style>\n",
       "<table border=\"1\" class=\"dataframe\">\n",
       "  <thead>\n",
       "    <tr style=\"text-align: right;\">\n",
       "      <th></th>\n",
       "      <th>count</th>\n",
       "      <th>mean</th>\n",
       "      <th>std</th>\n",
       "      <th>min</th>\n",
       "      <th>25%</th>\n",
       "      <th>50%</th>\n",
       "      <th>75%</th>\n",
       "      <th>max</th>\n",
       "    </tr>\n",
       "  </thead>\n",
       "  <tbody>\n",
       "    <tr>\n",
       "      <th>0</th>\n",
       "      <td>63.0</td>\n",
       "      <td>22.904762</td>\n",
       "      <td>23.351946</td>\n",
       "      <td>0.0</td>\n",
       "      <td>7.50</td>\n",
       "      <td>14.0</td>\n",
       "      <td>29.0</td>\n",
       "      <td>124.0</td>\n",
       "    </tr>\n",
       "    <tr>\n",
       "      <th>1</th>\n",
       "      <td>63.0</td>\n",
       "      <td>98.187302</td>\n",
       "      <td>87.327553</td>\n",
       "      <td>0.0</td>\n",
       "      <td>38.85</td>\n",
       "      <td>73.4</td>\n",
       "      <td>140.0</td>\n",
       "      <td>422.2</td>\n",
       "    </tr>\n",
       "  </tbody>\n",
       "</table>\n",
       "</div>"
      ],
      "text/plain": [
       "   count       mean        std  min    25%   50%    75%    max\n",
       "0   63.0  22.904762  23.351946  0.0   7.50  14.0   29.0  124.0\n",
       "1   63.0  98.187302  87.327553  0.0  38.85  73.4  140.0  422.2"
      ]
     },
     "execution_count": 49,
     "metadata": {},
     "output_type": "execute_result"
    }
   ],
   "source": [
    "df.describe().T"
   ]
  },
  {
   "cell_type": "code",
   "execution_count": 50,
   "id": "1237a619",
   "metadata": {
    "execution": {
     "iopub.execute_input": "2022-08-08T16:54:55.334067Z",
     "iopub.status.busy": "2022-08-08T16:54:55.333356Z",
     "iopub.status.idle": "2022-08-08T16:54:55.338037Z",
     "shell.execute_reply": "2022-08-08T16:54:55.337125Z"
    },
    "papermill": {
     "duration": 0.014096,
     "end_time": "2022-08-08T16:54:55.340577",
     "exception": false,
     "start_time": "2022-08-08T16:54:55.326481",
     "status": "completed"
    },
    "tags": []
   },
   "outputs": [],
   "source": [
    "def power_transformer(X):\n",
    "    pt = PowerTransformer()\n",
    "    pt.fit(X)\n",
    "    return pt"
   ]
  },
  {
   "cell_type": "code",
   "execution_count": 51,
   "id": "1ec09da1",
   "metadata": {
    "execution": {
     "iopub.execute_input": "2022-08-08T16:54:55.354015Z",
     "iopub.status.busy": "2022-08-08T16:54:55.353257Z",
     "iopub.status.idle": "2022-08-08T16:54:55.362001Z",
     "shell.execute_reply": "2022-08-08T16:54:55.361047Z"
    },
    "papermill": {
     "duration": 0.018569,
     "end_time": "2022-08-08T16:54:55.364609",
     "exception": false,
     "start_time": "2022-08-08T16:54:55.346040",
     "status": "completed"
    },
    "tags": []
   },
   "outputs": [],
   "source": [
    "# Transform the input\n",
    "pt1 = power_transformer(X_train)\n",
    "X_train = pt1.transform(X_train)\n",
    "X_test = pt1.transform(X_test)"
   ]
  },
  {
   "cell_type": "code",
   "execution_count": 52,
   "id": "38a09546",
   "metadata": {
    "execution": {
     "iopub.execute_input": "2022-08-08T16:54:55.377875Z",
     "iopub.status.busy": "2022-08-08T16:54:55.377154Z",
     "iopub.status.idle": "2022-08-08T16:54:55.385855Z",
     "shell.execute_reply": "2022-08-08T16:54:55.384411Z"
    },
    "papermill": {
     "duration": 0.018656,
     "end_time": "2022-08-08T16:54:55.388850",
     "exception": false,
     "start_time": "2022-08-08T16:54:55.370194",
     "status": "completed"
    },
    "tags": []
   },
   "outputs": [],
   "source": [
    "# Transform the ouput\n",
    "pt2 = power_transformer(y_train)\n",
    "y_train = pt2.transform(y_train)\n",
    "y_test = pt2.transform(y_test)"
   ]
  },
  {
   "cell_type": "markdown",
   "id": "e23a38c9",
   "metadata": {
    "papermill": {
     "duration": 0.005512,
     "end_time": "2022-08-08T16:54:55.400200",
     "exception": false,
     "start_time": "2022-08-08T16:54:55.394688",
     "status": "completed"
    },
    "tags": []
   },
   "source": [
    "## Model"
   ]
  },
  {
   "cell_type": "code",
   "execution_count": 53,
   "id": "0b69307e",
   "metadata": {
    "execution": {
     "iopub.execute_input": "2022-08-08T16:54:55.413799Z",
     "iopub.status.busy": "2022-08-08T16:54:55.413043Z",
     "iopub.status.idle": "2022-08-08T16:54:55.566293Z",
     "shell.execute_reply": "2022-08-08T16:54:55.563550Z"
    },
    "papermill": {
     "duration": 0.163968,
     "end_time": "2022-08-08T16:54:55.569923",
     "exception": false,
     "start_time": "2022-08-08T16:54:55.405955",
     "status": "completed"
    },
    "tags": []
   },
   "outputs": [],
   "source": [
    "model = Sequential()\n",
    "model.add(Dense(10, activation='relu', kernel_initializer='he_normal', input_shape=(X_train.shape[1],)))\n",
    "model.add(Dense(8, activation='relu', kernel_initializer='he_normal'))\n",
    "model.add(Dense(1))\n",
    "\n",
    "# Define the optimizer\n",
    "optimizer = tfa.optimizers.AdamW(learning_rate=0.01, weight_decay=0.01)\n",
    "\n"
   ]
  },
  {
   "cell_type": "code",
   "execution_count": 54,
   "id": "a4d10679",
   "metadata": {
    "execution": {
     "iopub.execute_input": "2022-08-08T16:54:55.583880Z",
     "iopub.status.busy": "2022-08-08T16:54:55.583356Z",
     "iopub.status.idle": "2022-08-08T16:54:55.591259Z",
     "shell.execute_reply": "2022-08-08T16:54:55.589932Z"
    },
    "papermill": {
     "duration": 0.018009,
     "end_time": "2022-08-08T16:54:55.594210",
     "exception": false,
     "start_time": "2022-08-08T16:54:55.576201",
     "status": "completed"
    },
    "tags": []
   },
   "outputs": [],
   "source": [
    "callback = tf.keras.callbacks.EarlyStopping(\n",
    "    monitor='val_loss',\n",
    "    min_delta=0,\n",
    "    patience=10,\n",
    "    verbose=1,\n",
    "    mode='auto',\n",
    "    baseline=None,\n",
    "    restore_best_weights=True\n",
    ")"
   ]
  },
  {
   "cell_type": "code",
   "execution_count": 55,
   "id": "e8cf658d",
   "metadata": {
    "execution": {
     "iopub.execute_input": "2022-08-08T16:54:55.608314Z",
     "iopub.status.busy": "2022-08-08T16:54:55.607577Z",
     "iopub.status.idle": "2022-08-08T16:54:57.650602Z",
     "shell.execute_reply": "2022-08-08T16:54:57.648775Z"
    },
    "papermill": {
     "duration": 2.053691,
     "end_time": "2022-08-08T16:54:57.653839",
     "exception": false,
     "start_time": "2022-08-08T16:54:55.600148",
     "status": "completed"
    },
    "tags": []
   },
   "outputs": [
    {
     "name": "stdout",
     "output_type": "stream",
     "text": [
      "Epoch 1/300\n",
      "11/11 [==============================] - 0s 9ms/step - loss: 1.7435 - val_loss: 2.0494\n",
      "Epoch 2/300\n",
      "11/11 [==============================] - 0s 3ms/step - loss: 0.6405 - val_loss: 0.7949\n",
      "Epoch 3/300\n",
      "11/11 [==============================] - 0s 3ms/step - loss: 0.3596 - val_loss: 0.5573\n",
      "Epoch 4/300\n",
      "11/11 [==============================] - 0s 2ms/step - loss: 0.3419 - val_loss: 0.5012\n",
      "Epoch 5/300\n",
      "11/11 [==============================] - 0s 3ms/step - loss: 0.3457 - val_loss: 0.4895\n",
      "Epoch 6/300\n",
      "11/11 [==============================] - 0s 3ms/step - loss: 0.3443 - val_loss: 0.4942\n",
      "Epoch 7/300\n",
      "11/11 [==============================] - 0s 3ms/step - loss: 0.3417 - val_loss: 0.5092\n",
      "Epoch 8/300\n",
      "11/11 [==============================] - 0s 3ms/step - loss: 0.3372 - val_loss: 0.5040\n",
      "Epoch 9/300\n",
      "11/11 [==============================] - 0s 3ms/step - loss: 0.3388 - val_loss: 0.5180\n",
      "Epoch 10/300\n",
      "11/11 [==============================] - 0s 3ms/step - loss: 0.3453 - val_loss: 0.5440\n",
      "Epoch 11/300\n",
      "11/11 [==============================] - 0s 2ms/step - loss: 0.3636 - val_loss: 0.5763\n",
      "Epoch 12/300\n",
      "11/11 [==============================] - 0s 2ms/step - loss: 0.3562 - val_loss: 0.5503\n",
      "Epoch 13/300\n",
      "11/11 [==============================] - 0s 3ms/step - loss: 0.3513 - val_loss: 0.5623\n",
      "Epoch 14/300\n",
      "11/11 [==============================] - 0s 3ms/step - loss: 0.3540 - val_loss: 0.5825\n",
      "Epoch 15/300\n",
      " 1/11 [=>............................] - ETA: 0s - loss: 0.3461Restoring model weights from the end of the best epoch: 5.\n",
      "11/11 [==============================] - 0s 3ms/step - loss: 0.3544 - val_loss: 0.5371\n",
      "Epoch 15: early stopping\n"
     ]
    }
   ],
   "source": [
    "model.compile(optimizer=optimizer, loss='mse')\n",
    "history = model.fit(X_train, y_train, epochs=300, batch_size=4, callbacks=[callback], validation_data=(X_test,y_test))"
   ]
  },
  {
   "cell_type": "markdown",
   "id": "6d2d5a3b",
   "metadata": {
    "papermill": {
     "duration": 0.006869,
     "end_time": "2022-08-08T16:54:57.668455",
     "exception": false,
     "start_time": "2022-08-08T16:54:57.661586",
     "status": "completed"
    },
    "tags": []
   },
   "source": [
    "## Analyze"
   ]
  },
  {
   "cell_type": "code",
   "execution_count": 56,
   "id": "39be4404",
   "metadata": {
    "_kg_hide-input": true,
    "execution": {
     "iopub.execute_input": "2022-08-08T16:54:57.686766Z",
     "iopub.status.busy": "2022-08-08T16:54:57.686367Z",
     "iopub.status.idle": "2022-08-08T16:54:59.198303Z",
     "shell.execute_reply": "2022-08-08T16:54:59.197109Z"
    },
    "papermill": {
     "duration": 1.524106,
     "end_time": "2022-08-08T16:54:59.200996",
     "exception": false,
     "start_time": "2022-08-08T16:54:57.676890",
     "status": "completed"
    },
    "tags": []
   },
   "outputs": [
    {
     "data": {
      "image/png": "[encoded data removed]",
      "text/plain": [
       "<Figure size 1200x400 with 1 Axes>"
      ]
     },
     "metadata": {},
     "output_type": "display_data"
    }
   ],
   "source": [
    "plt.figure(figsize=(12,4))\n",
    "plt.plot(history.history['loss'], label='loss')\n",
    "plt.plot(history.history['val_loss'], label='val_loss')\n",
    "plt.legend();"
   ]
  },
  {
   "cell_type": "markdown",
   "id": "c0421f41",
   "metadata": {
    "papermill": {
     "duration": 0.014625,
     "end_time": "2022-08-08T16:54:59.230287",
     "exception": false,
     "start_time": "2022-08-08T16:54:59.215662",
     "status": "completed"
    },
    "tags": []
   },
   "source": [
    "## Prediction"
   ]
  },
  {
   "cell_type": "code",
   "execution_count": 57,
   "id": "335900c7",
   "metadata": {
    "execution": {
     "iopub.execute_input": "2022-08-08T16:54:59.248527Z",
     "iopub.status.busy": "2022-08-08T16:54:59.248117Z",
     "iopub.status.idle": "2022-08-08T16:54:59.253724Z",
     "shell.execute_reply": "2022-08-08T16:54:59.252882Z"
    },
    "papermill": {
     "duration": 0.016709,
     "end_time": "2022-08-08T16:54:59.255984",
     "exception": false,
     "start_time": "2022-08-08T16:54:59.239275",
     "status": "completed"
    },
    "tags": []
   },
   "outputs": [],
   "source": [
    "def predict(X, y_true):\n",
    "    y_hat = model.predict(X)\n",
    "    y_hat = pt2.inverse_transform(y_hat)\n",
    "    y_true = pt2.inverse_transform(y_true)\n",
    "    return y_hat, y_true"
   ]
  },
  {
   "cell_type": "code",
   "execution_count": 58,
   "id": "a78772b7",
   "metadata": {
    "execution": {
     "iopub.execute_input": "2022-08-08T16:54:59.277542Z",
     "iopub.status.busy": "2022-08-08T16:54:59.274827Z",
     "iopub.status.idle": "2022-08-08T16:54:59.441049Z",
     "shell.execute_reply": "2022-08-08T16:54:59.439785Z"
    },
    "papermill": {
     "duration": 0.178878,
     "end_time": "2022-08-08T16:54:59.443709",
     "exception": false,
     "start_time": "2022-08-08T16:54:59.264831",
     "status": "completed"
    },
    "tags": []
   },
   "outputs": [
    {
     "name": "stdout",
     "output_type": "stream",
     "text": [
      "1/1 [==============================] - 0s 45ms/step\n"
     ]
    }
   ],
   "source": [
    "y_hat, y_test = predict(X_test, y_test)"
   ]
  },
  {
   "cell_type": "code",
   "execution_count": 59,
   "id": "0c301a77",
   "metadata": {
    "execution": {
     "iopub.execute_input": "2022-08-08T16:54:59.463663Z",
     "iopub.status.busy": "2022-08-08T16:54:59.461818Z",
     "iopub.status.idle": "2022-08-08T16:54:59.470340Z",
     "shell.execute_reply": "2022-08-08T16:54:59.468891Z"
    },
    "papermill": {
     "duration": 0.020432,
     "end_time": "2022-08-08T16:54:59.472930",
     "exception": false,
     "start_time": "2022-08-08T16:54:59.452498",
     "status": "completed"
    },
    "tags": []
   },
   "outputs": [
    {
     "name": "stdout",
     "output_type": "stream",
     "text": [
      "MAE: 39.065\n"
     ]
    }
   ],
   "source": [
    "score = mean_absolute_error(y_test, y_hat)\n",
    "print('MAE: %.3f' % score)"
   ]
  }
 ],
 "metadata": {
  "kernelspec": {
   "display_name": "Python 3",
   "language": "python",
   "name": "python3"
  },
  "language_info": {
   "codemirror_mode": {
    "name": "ipython",
    "version": 3
   },
   "file_extension": ".py",
   "mimetype": "text/x-python",
   "name": "python",
   "nbconvert_exporter": "python",
   "pygments_lexer": "ipython3",
   "version": "3.11.7"
  },
  "papermill": {
   "default_parameters": {},
   "duration": 30.088905,
   "end_time": "2022-08-08T16:55:02.842244",
   "environment_variables": {},
   "exception": null,
   "input_path": "__notebook__.ipynb",
   "output_path": "__notebook__.ipynb",
   "parameters": {},
   "start_time": "2022-08-08T16:54:32.753339",
   "version": "2.3.4"
  }
 },
 "nbformat": 4,
 "nbformat_minor": 5
}
